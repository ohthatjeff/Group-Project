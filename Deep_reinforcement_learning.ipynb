{
  "cells": [
    {
      "cell_type": "markdown",
      "metadata": {
        "id": "view-in-github",
        "colab_type": "text"
      },
      "source": [
        "<a href=\"https://colab.research.google.com/github/ohthatjeff/Group-Project/blob/main/Deep_reinforcement_learning.ipynb\" target=\"_parent\"><img src=\"https://colab.research.google.com/assets/colab-badge.svg\" alt=\"Open In Colab\"/></a>"
      ]
    },
    {
      "cell_type": "code",
      "execution_count": null,
      "metadata": {
        "id": "0FL4WQiea3v3"
      },
      "outputs": [],
      "source": [
        "# For tips on running notebooks in Google Colab, see\n",
        "# https://pytorch.org/tutorials/beginner/colab\n",
        "%matplotlib inline"
      ]
    },
    {
      "cell_type": "markdown",
      "metadata": {
        "id": "od7nz6JEa3v-"
      },
      "source": [
        "\n",
        "# Reinforcement Learning (DQN) Tutorial\n",
        "**Author**: [Adam Paszke](https://github.com/apaszke)\n",
        "            [Mark Towers](https://github.com/pseudo-rnd-thoughts)\n",
        "            [Ryan Boldi](https://github.com/ryanboldi)\n",
        "\n",
        "\n",
        "This tutorial shows how to use PyTorch to train a Deep Q Learning (DQN) agent\n",
        "on the CartPole-v1 task from [Gymnasium](https://www.gymnasium.farama.org)_.\n",
        "\n",
        "**Task**\n",
        "\n",
        "The agent has to decide between two actions - moving the cart left or\n",
        "right - so that the pole attached to it stays upright. You can find more\n",
        "information about the environment and other more challenging environments at\n",
        "[Gymnasium's website](https://gymnasium.farama.org/environments/classic_control/cart_pole/)_.\n",
        "\n",
        "![](https://gymnasium.farama.org/_images/cart_pole.gif)\n",
        "\n",
        "As the agent observes the current state of the environment and chooses\n",
        "an action, the environment *transitions* to a new state, and also\n",
        "returns a reward that indicates the consequences of the action. In this\n",
        "task, rewards are +1 for every incremental timestep and the environment\n",
        "terminates if the pole falls over too far or the cart moves more than 2.4\n",
        "units away from center. This means better performing scenarios will run\n",
        "for longer duration, accumulating larger return.\n",
        "\n",
        "The CartPole task is designed so that the inputs to the agent are 4 real\n",
        "values representing the environment state (position, velocity, etc.).\n",
        "We take these 4 inputs without any scaling and pass them through a\n",
        "small fully-connected network with 2 outputs, one for each action.\n",
        "The network is trained to predict the expected value for each action,\n",
        "given the input state. The action with the highest expected value is\n",
        "then chosen.\n",
        "\n",
        "\n",
        "**Packages**\n",
        "\n",
        "\n",
        "First, let's import needed packages. Firstly, we need\n",
        "[gymnasium](https://gymnasium.farama.org/)_ for the environment,\n",
        "installed by using `pip`. This is a fork of the original OpenAI\n",
        "Gym project and maintained by the same team since Gym v0.19.\n",
        "If you are running this in Google Colab, run:\n"
      ]
    },
    {
      "cell_type": "code",
      "execution_count": null,
      "metadata": {
        "id": "3rASjEMEa3wE",
        "colab": {
          "base_uri": "https://localhost:8080/"
        },
        "outputId": "7c8e7bc9-ad60-4a46-e974-a9c4843e0558"
      },
      "outputs": [
        {
          "output_type": "stream",
          "name": "stdout",
          "text": [
            "Collecting gymnasium[classic_control]\n",
            "  Downloading gymnasium-0.29.1-py3-none-any.whl (953 kB)\n",
            "     ━━━━━━━━━━━━━━━━━━━━━━━━━━━━━━━━━━━━━━━━ 953.9/953.9 kB 16.5 MB/s eta 0:00:00\n",
            "Requirement already satisfied: numpy>=1.21.0 in /usr/local/lib/python3.10/dist-packages (from gymnasium[classic_control]) (1.23.5)\n",
            "Requirement already satisfied: cloudpickle>=1.2.0 in /usr/local/lib/python3.10/dist-packages (from gymnasium[classic_control]) (2.2.1)\n",
            "Requirement already satisfied: typing-extensions>=4.3.0 in /usr/local/lib/python3.10/dist-packages (from gymnasium[classic_control]) (4.5.0)\n",
            "Collecting farama-notifications>=0.0.1 (from gymnasium[classic_control])\n",
            "  Downloading Farama_Notifications-0.0.4-py3-none-any.whl (2.5 kB)\n",
            "Requirement already satisfied: pygame>=2.1.3 in /usr/local/lib/python3.10/dist-packages (from gymnasium[classic_control]) (2.5.2)\n",
            "Installing collected packages: farama-notifications, gymnasium\n",
            "Successfully installed farama-notifications-0.0.4 gymnasium-0.29.1\n",
            "Collecting pyvirtualdisplay\n",
            "  Downloading PyVirtualDisplay-3.0-py3-none-any.whl (15 kB)\n",
            "Installing collected packages: pyvirtualdisplay\n",
            "Successfully installed pyvirtualdisplay-3.0\n",
            "Reading package lists...\n",
            "Building dependency tree...\n",
            "Reading state information...\n",
            "The following additional packages will be installed:\n",
            "  libfontenc1 libxfont2 libxkbfile1 x11-xkb-utils xfonts-base xfonts-encodings\n",
            "  xfonts-utils xserver-common\n",
            "The following NEW packages will be installed:\n",
            "  libfontenc1 libxfont2 libxkbfile1 x11-xkb-utils xfonts-base xfonts-encodings\n",
            "  xfonts-utils xserver-common xvfb\n",
            "0 upgraded, 9 newly installed, 0 to remove and 19 not upgraded.\n",
            "Need to get 7,814 kB of archives.\n",
            "After this operation, 11.9 MB of additional disk space will be used.\n",
            "Get:1 http://archive.ubuntu.com/ubuntu jammy/main amd64 libfontenc1 amd64 1:1.1.4-1build3 [14.7 kB]\n",
            "Get:2 http://archive.ubuntu.com/ubuntu jammy/main amd64 libxfont2 amd64 1:2.0.5-1build1 [94.5 kB]\n",
            "Get:3 http://archive.ubuntu.com/ubuntu jammy/main amd64 libxkbfile1 amd64 1:1.1.0-1build3 [71.8 kB]\n",
            "Get:4 http://archive.ubuntu.com/ubuntu jammy/main amd64 x11-xkb-utils amd64 7.7+5build4 [172 kB]\n",
            "Get:5 http://archive.ubuntu.com/ubuntu jammy/main amd64 xfonts-encodings all 1:1.0.5-0ubuntu2 [578 kB]\n",
            "Get:6 http://archive.ubuntu.com/ubuntu jammy/main amd64 xfonts-utils amd64 1:7.7+6build2 [94.6 kB]\n",
            "Get:7 http://archive.ubuntu.com/ubuntu jammy/main amd64 xfonts-base all 1:1.0.5 [5,896 kB]\n",
            "Get:8 http://archive.ubuntu.com/ubuntu jammy-updates/main amd64 xserver-common all 2:21.1.4-2ubuntu1.7~22.04.2 [28.1 kB]\n",
            "Get:9 http://archive.ubuntu.com/ubuntu jammy-updates/universe amd64 xvfb amd64 2:21.1.4-2ubuntu1.7~22.04.2 [864 kB]\n",
            "Fetched 7,814 kB in 2s (3,673 kB/s)\n",
            "Selecting previously unselected package libfontenc1:amd64.\r\n",
            "(Reading database ... \r(Reading database ... 5%\r(Reading database ... 10%\r(Reading database ... 15%\r(Reading database ... 20%\r(Reading database ... 25%\r(Reading database ... 30%\r(Reading database ... 35%\r(Reading database ... 40%\r(Reading database ... 45%\r(Reading database ... 50%\r(Reading database ... 55%\r(Reading database ... 60%\r(Reading database ... 65%\r(Reading database ... 70%\r(Reading database ... 75%\r(Reading database ... 80%\r(Reading database ... 85%\r(Reading database ... 90%\r(Reading database ... 95%\r(Reading database ... 100%\r(Reading database ... 120874 files and directories currently installed.)\r\n",
            "Preparing to unpack .../0-libfontenc1_1%3a1.1.4-1build3_amd64.deb ...\r\n",
            "Unpacking libfontenc1:amd64 (1:1.1.4-1build3) ...\r\n",
            "Selecting previously unselected package libxfont2:amd64.\r\n",
            "Preparing to unpack .../1-libxfont2_1%3a2.0.5-1build1_amd64.deb ...\r\n",
            "Unpacking libxfont2:amd64 (1:2.0.5-1build1) ...\r\n",
            "Selecting previously unselected package libxkbfile1:amd64.\r\n",
            "Preparing to unpack .../2-libxkbfile1_1%3a1.1.0-1build3_amd64.deb ...\r\n",
            "Unpacking libxkbfile1:amd64 (1:1.1.0-1build3) ...\r\n",
            "Selecting previously unselected package x11-xkb-utils.\r\n",
            "Preparing to unpack .../3-x11-xkb-utils_7.7+5build4_amd64.deb ...\r\n",
            "Unpacking x11-xkb-utils (7.7+5build4) ...\r\n",
            "Selecting previously unselected package xfonts-encodings.\r\n",
            "Preparing to unpack .../4-xfonts-encodings_1%3a1.0.5-0ubuntu2_all.deb ...\r\n",
            "Unpacking xfonts-encodings (1:1.0.5-0ubuntu2) ...\r\n",
            "Selecting previously unselected package xfonts-utils.\r\n",
            "Preparing to unpack .../5-xfonts-utils_1%3a7.7+6build2_amd64.deb ...\r\n",
            "Unpacking xfonts-utils (1:7.7+6build2) ...\r\n",
            "Selecting previously unselected package xfonts-base.\r\n",
            "Preparing to unpack .../6-xfonts-base_1%3a1.0.5_all.deb ...\r\n",
            "Unpacking xfonts-base (1:1.0.5) ...\r\n",
            "Selecting previously unselected package xserver-common.\r\n",
            "Preparing to unpack .../7-xserver-common_2%3a21.1.4-2ubuntu1.7~22.04.2_all.deb ...\r\n",
            "Unpacking xserver-common (2:21.1.4-2ubuntu1.7~22.04.2) ...\r\n",
            "Selecting previously unselected package xvfb.\r\n",
            "Preparing to unpack .../8-xvfb_2%3a21.1.4-2ubuntu1.7~22.04.2_amd64.deb ...\r\n",
            "Unpacking xvfb (2:21.1.4-2ubuntu1.7~22.04.2) ...\r\n",
            "Setting up libfontenc1:amd64 (1:1.1.4-1build3) ...\r\n",
            "Setting up xfonts-encodings (1:1.0.5-0ubuntu2) ...\r\n",
            "Setting up libxkbfile1:amd64 (1:1.1.0-1build3) ...\r\n",
            "Setting up libxfont2:amd64 (1:2.0.5-1build1) ...\r\n",
            "Setting up x11-xkb-utils (7.7+5build4) ...\r\n",
            "Setting up xfonts-utils (1:7.7+6build2) ...\r\n",
            "Setting up xfonts-base (1:1.0.5) ...\r\n",
            "Setting up xserver-common (2:21.1.4-2ubuntu1.7~22.04.2) ...\r\n",
            "Setting up xvfb (2:21.1.4-2ubuntu1.7~22.04.2) ...\r\n",
            "Processing triggers for man-db (2.10.2-1) ...\r\n",
            "Processing triggers for fontconfig (2.13.1-4.2ubuntu5) ...\r\n",
            "Processing triggers for libc-bin (2.35-0ubuntu3.1) ...\r\n",
            "/sbin/ldconfig.real: /usr/local/lib/libtbbbind_2_0.so.3 is not a symbolic link\r\n",
            "\r\n",
            "/sbin/ldconfig.real: /usr/local/lib/libtbb.so.12 is not a symbolic link\r\n",
            "\r\n",
            "/sbin/ldconfig.real: /usr/local/lib/libtbbbind.so.3 is not a symbolic link\r\n",
            "\r\n",
            "/sbin/ldconfig.real: /usr/local/lib/libtbbmalloc_proxy.so.2 is not a symbolic link\r\n",
            "\r\n",
            "/sbin/ldconfig.real: /usr/local/lib/libtbbbind_2_5.so.3 is not a symbolic link\r\n",
            "\r\n",
            "/sbin/ldconfig.real: /usr/local/lib/libtbbmalloc.so.2 is not a symbolic link\r\n",
            "\r\n"
          ]
        },
        {
          "output_type": "stream",
          "name": "stderr",
          "text": [
            "debconf: unable to initialize frontend: Dialog\n",
            "debconf: (No usable dialog-like program is installed, so the dialog based frontend cannot be used. at /usr/share/perl5/Debconf/FrontEnd/Dialog.pm line 78, <> line 9.)\n",
            "debconf: falling back to frontend: Readline\n",
            "debconf: unable to initialize frontend: Readline\n",
            "debconf: (This frontend requires a controlling tty.)\n",
            "debconf: falling back to frontend: Teletype\n",
            "dpkg-preconfigure: unable to re-open stdin: \n"
          ]
        }
      ],
      "source": [
        "%%bash\n",
        "pip3 install gymnasium[classic_control]\n",
        "python -m pip install pyvirtualdisplay\n",
        "sudo apt-get install xvfb"
      ]
    },
    {
      "cell_type": "markdown",
      "metadata": {
        "id": "juUagySWa3wF"
      },
      "source": [
        "We'll also use the following from PyTorch:\n",
        "\n",
        "-  neural networks (``torch.nn``)\n",
        "-  optimization (``torch.optim``)\n",
        "-  automatic differentiation (``torch.autograd``)\n"
      ]
    },
    {
      "cell_type": "code",
      "execution_count": null,
      "metadata": {
        "id": "QL7rbZLUa3wG"
      },
      "outputs": [],
      "source": [
        "import gymnasium as gym\n",
        "import math\n",
        "import random\n",
        "import matplotlib\n",
        "import matplotlib.pyplot as plt\n",
        "from collections import namedtuple, deque\n",
        "from itertools import count\n",
        "\n",
        "import torch\n",
        "import torch.nn as nn\n",
        "import torch.optim as optim\n",
        "import torch.nn.functional as F\n",
        "\n",
        "#video stuff\n",
        "import glob\n",
        "import io\n",
        "import base64\n",
        "from IPython.display import HTML\n",
        "\n",
        "env = gym.make(\"CartPole-v1\", render_mode=\"rgb_array\")\n",
        "\n",
        "# set up matplotlib\n",
        "is_ipython = 'inline' in matplotlib.get_backend()\n",
        "if is_ipython:\n",
        "    from IPython import display\n",
        "\n",
        "plt.ion()\n",
        "\n",
        "# if GPU is to be used\n",
        "device = torch.device(\"cuda\" if torch.cuda.is_available() else \"cpu\")"
      ]
    },
    {
      "cell_type": "markdown",
      "metadata": {
        "id": "go9f2avCa3wH"
      },
      "source": [
        "## Replay Memory\n",
        "\n",
        "We'll be using experience replay memory for training our DQN. It stores\n",
        "the transitions that the agent observes, allowing us to reuse this data\n",
        "later. By sampling from it randomly, the transitions that build up a\n",
        "batch are decorrelated. It has been shown that this greatly stabilizes\n",
        "and improves the DQN training procedure.\n",
        "\n",
        "For this, we're going to need two classes:\n",
        "\n",
        "-  ``Transition`` - a named tuple representing a single transition in\n",
        "   our environment. It essentially maps (state, action) pairs\n",
        "   to their (next_state, reward) result, with the state being the\n",
        "   screen difference image as described later on.\n",
        "-  ``ReplayMemory`` - a cyclic buffer of bounded size that holds the\n",
        "   transitions observed recently. It also implements a ``.sample()``\n",
        "   method for selecting a random batch of transitions for training.\n",
        "\n",
        "\n"
      ]
    },
    {
      "cell_type": "code",
      "execution_count": null,
      "metadata": {
        "id": "tBrPaiQsa3wI"
      },
      "outputs": [],
      "source": [
        "Transition = namedtuple('Transition',\n",
        "                        ('state', 'action', 'next_state', 'reward'))\n",
        "\n",
        "\n",
        "class ReplayMemory(object):\n",
        "\n",
        "    def __init__(self, capacity):\n",
        "        self.memory = deque([], maxlen=capacity)\n",
        "\n",
        "    def push(self, *args):\n",
        "        \"\"\"Save a transition\"\"\"\n",
        "        self.memory.append(Transition(*args))\n",
        "\n",
        "    def sample(self, batch_size):\n",
        "        return random.sample(self.memory, batch_size)\n",
        "\n",
        "    def __len__(self):\n",
        "        return len(self.memory)"
      ]
    },
    {
      "cell_type": "markdown",
      "metadata": {
        "id": "YKLCYsxca3wJ"
      },
      "source": [
        "Now, let's define our model. But first, let's quickly recap what a DQN is.\n",
        "\n",
        "## DQN algorithm\n",
        "\n",
        "Our environment is deterministic, so all equations presented here are\n",
        "also formulated deterministically for the sake of simplicity. In the\n",
        "reinforcement learning literature, they would also contain expectations\n",
        "over stochastic transitions in the environment.\n",
        "\n",
        "Our aim will be to train a policy that tries to maximize the discounted,\n",
        "cumulative reward\n",
        "$R_{t_0} = \\sum_{t=t_0}^{\\infty} \\gamma^{t - t_0} r_t$, where\n",
        "$R_{t_0}$ is also known as the *return*. The discount,\n",
        "$\\gamma$, should be a constant between $0$ and $1$\n",
        "that ensures the sum converges. A lower $\\gamma$ makes\n",
        "rewards from the uncertain far future less important for our agent\n",
        "than the ones in the near future that it can be fairly confident\n",
        "about. It also encourages agents to collect reward closer in time\n",
        "than equivalent rewards that are temporally far away in the future.\n",
        "\n",
        "The main idea behind Q-learning is that if we had a function\n",
        "$Q^*: State \\times Action \\rightarrow \\mathbb{R}$, that could tell\n",
        "us what our return would be, if we were to take an action in a given\n",
        "state, then we could easily construct a policy that maximizes our\n",
        "rewards:\n",
        "\n",
        "\\begin{align}\\pi^*(s) = \\arg\\!\\max_a \\ Q^*(s, a)\\end{align}\n",
        "\n",
        "However, we don't know everything about the world, so we don't have\n",
        "access to $Q^*$. But, since neural networks are universal function\n",
        "approximators, we can simply create one and train it to resemble\n",
        "$Q^*$.\n",
        "\n",
        "For our training update rule, we'll use a fact that every $Q$\n",
        "function for some policy obeys the Bellman equation:\n",
        "\n",
        "\\begin{align}Q^{\\pi}(s, a) = r + \\gamma Q^{\\pi}(s', \\pi(s'))\\end{align}\n",
        "\n",
        "The difference between the two sides of the equality is known as the\n",
        "temporal difference error, $\\delta$:\n",
        "\n",
        "\\begin{align}\\delta = Q(s, a) - (r + \\gamma \\max_a' Q(s', a))\\end{align}\n",
        "\n",
        "To minimize this error, we will use the [Huber\n",
        "loss](https://en.wikipedia.org/wiki/Huber_loss)_. The Huber loss acts\n",
        "like the mean squared error when the error is small, but like the mean\n",
        "absolute error when the error is large - this makes it more robust to\n",
        "outliers when the estimates of $Q$ are very noisy. We calculate\n",
        "this over a batch of transitions, $B$, sampled from the replay\n",
        "memory:\n",
        "\n",
        "\\begin{align}\\mathcal{L} = \\frac{1}{|B|}\\sum_{(s, a, s', r) \\ \\in \\ B} \\mathcal{L}(\\delta)\\end{align}\n",
        "\n",
        "\\begin{align}\\text{where} \\quad \\mathcal{L}(\\delta) = \\begin{cases}\n",
        "     \\frac{1}{2}{\\delta^2}  & \\text{for } |\\delta| \\le 1, \\\\\n",
        "     |\\delta| - \\frac{1}{2} & \\text{otherwise.}\n",
        "   \\end{cases}\\end{align}\n",
        "\n",
        "### Q-network\n",
        "\n",
        "Our model will be a feed forward  neural network that takes in the\n",
        "difference between the current and previous screen patches. It has two\n",
        "outputs, representing $Q(s, \\mathrm{left})$ and\n",
        "$Q(s, \\mathrm{right})$ (where $s$ is the input to the\n",
        "network). In effect, the network is trying to predict the *expected return* of\n",
        "taking each action given the current input.\n",
        "\n",
        "\n"
      ]
    },
    {
      "cell_type": "code",
      "execution_count": null,
      "metadata": {
        "id": "Ugi-KLl3a3wK"
      },
      "outputs": [],
      "source": [
        "class DQN(nn.Module):\n",
        "\n",
        "    def __init__(self, n_observations, n_actions):\n",
        "        super(DQN, self).__init__()\n",
        "        self.layer1 = nn.Linear(n_observations, 128)\n",
        "        self.layer2 = nn.Linear(128, 128)\n",
        "        self.layer3 = nn.Linear(128, n_actions)\n",
        "\n",
        "    # Called with either one element to determine next action, or a batch\n",
        "    # during optimization. Returns tensor([[left0exp,right0exp]...]).\n",
        "    def forward(self, x):\n",
        "        x = F.relu(self.layer1(x))\n",
        "        x = F.relu(self.layer2(x))\n",
        "        return self.layer3(x)"
      ]
    },
    {
      "cell_type": "markdown",
      "metadata": {
        "id": "qZNIltR5a3wL"
      },
      "source": [
        "## Training\n",
        "\n",
        "### Hyperparameters and utilities\n",
        "This cell instantiates our model and its optimizer, and defines some\n",
        "utilities:\n",
        "\n",
        "-  ``select_action`` - will select an action accordingly to an epsilon\n",
        "   greedy policy. Simply put, we'll sometimes use our model for choosing\n",
        "   the action, and sometimes we'll just sample one uniformly. The\n",
        "   probability of choosing a random action will start at ``EPS_START``\n",
        "   and will decay exponentially towards ``EPS_END``. ``EPS_DECAY``\n",
        "   controls the rate of the decay.\n",
        "-  ``plot_durations`` - a helper for plotting the duration of episodes,\n",
        "   along with an average over the last 100 episodes (the measure used in\n",
        "   the official evaluations). The plot will be underneath the cell\n",
        "   containing the main training loop, and will update after every\n",
        "   episode.\n",
        "\n",
        "\n"
      ]
    },
    {
      "cell_type": "code",
      "execution_count": null,
      "metadata": {
        "id": "xwtODl3da3wN"
      },
      "outputs": [],
      "source": [
        "# BATCH_SIZE is the number of transitions sampled from the replay buffer\n",
        "# GAMMA is the discount factor as mentioned in the previous section\n",
        "# EPS_START is the starting value of epsilon\n",
        "# EPS_END is the final value of epsilon\n",
        "# EPS_DECAY controls the rate of exponential decay of epsilon, higher means a slower decay\n",
        "# TAU is the update rate of the target network\n",
        "# LR is the learning rate of the ``AdamW`` optimizer\n",
        "BATCH_SIZE = 128\n",
        "GAMMA = 0.99\n",
        "EPS_START = 0.9\n",
        "EPS_END = 0.05\n",
        "EPS_DECAY = 1000\n",
        "TAU = 0.005\n",
        "LR = 1e-4\n",
        "\n",
        "# Get number of actions from gym action space\n",
        "n_actions = env.action_space.n\n",
        "# Get the number of state observations\n",
        "state, info = env.reset()\n",
        "n_observations = len(state)\n",
        "\n",
        "policy_net = DQN(n_observations, n_actions).to(device)\n",
        "target_net = DQN(n_observations, n_actions).to(device)\n",
        "target_net.load_state_dict(policy_net.state_dict())\n",
        "\n",
        "optimizer = optim.AdamW(policy_net.parameters(), lr=LR, amsgrad=True)\n",
        "memory = ReplayMemory(10000)\n",
        "\n",
        "\n",
        "steps_done = 0\n",
        "\n",
        "\n",
        "def select_action(state):\n",
        "    global steps_done\n",
        "    sample = random.random()\n",
        "    eps_threshold = EPS_END + (EPS_START - EPS_END) * \\\n",
        "        math.exp(-1. * steps_done / EPS_DECAY)\n",
        "    steps_done += 1\n",
        "    if sample > eps_threshold:\n",
        "        with torch.no_grad():\n",
        "            # t.max(1) will return the largest column value of each row.\n",
        "            # second column on max result is index of where max element was\n",
        "            # found, so we pick action with the larger expected reward.\n",
        "            return policy_net(state).max(1)[1].view(1, 1)\n",
        "    else:\n",
        "        return torch.tensor([[env.action_space.sample()]], device=device, dtype=torch.long)\n",
        "\n",
        "\n",
        "episode_durations = []\n",
        "\n",
        "\n",
        "def plot_durations(show_result=False):\n",
        "    plt.figure(1)\n",
        "    durations_t = torch.tensor(episode_durations, dtype=torch.float)\n",
        "    if show_result:\n",
        "        plt.title('Result')\n",
        "    else:\n",
        "        plt.clf()\n",
        "        plt.title('Training...')\n",
        "    plt.xlabel('Episode')\n",
        "    plt.ylabel('Duration')\n",
        "    plt.plot(durations_t.numpy())\n",
        "    # Take 100 episode averages and plot them too\n",
        "    if len(durations_t) >= 100:\n",
        "        means = durations_t.unfold(0, 100, 1).mean(1).view(-1)\n",
        "        means = torch.cat((torch.zeros(99), means))\n",
        "        plt.plot(means.numpy())\n",
        "\n",
        "    plt.pause(0.001)  # pause a bit so that plots are updated\n",
        "    if is_ipython:\n",
        "        if not show_result:\n",
        "            display.display(plt.gcf())\n",
        "            display.clear_output(wait=True)\n",
        "        else:\n",
        "            display.display(plt.gcf())"
      ]
    },
    {
      "cell_type": "markdown",
      "metadata": {
        "id": "J6DLGd2da3wP"
      },
      "source": [
        "### Training loop\n",
        "\n",
        "Finally, the code for training our model.\n",
        "\n",
        "Here, you can find an ``optimize_model`` function that performs a\n",
        "single step of the optimization. It first samples a batch, concatenates\n",
        "all the tensors into a single one, computes $Q(s_t, a_t)$ and\n",
        "$V(s_{t+1}) = \\max_a Q(s_{t+1}, a)$, and combines them into our\n",
        "loss. By definition we set $V(s) = 0$ if $s$ is a terminal\n",
        "state. We also use a target network to compute $V(s_{t+1})$ for\n",
        "added stability. The target network is updated at every step with a\n",
        "[soft update](https://arxiv.org/pdf/1509.02971.pdf)_ controlled by\n",
        "the hyperparameter ``TAU``, which was previously defined.\n",
        "\n",
        "\n"
      ]
    },
    {
      "cell_type": "code",
      "execution_count": null,
      "metadata": {
        "id": "jo4iikRZa3wP"
      },
      "outputs": [],
      "source": [
        "def optimize_model():\n",
        "    if len(memory) < BATCH_SIZE:\n",
        "        return\n",
        "    transitions = memory.sample(BATCH_SIZE)\n",
        "    # Transpose the batch (see https://stackoverflow.com/a/19343/3343043 for\n",
        "    # detailed explanation). This converts batch-array of Transitions\n",
        "    # to Transition of batch-arrays.\n",
        "    batch = Transition(*zip(*transitions))\n",
        "\n",
        "    # Compute a mask of non-final states and concatenate the batch elements\n",
        "    # (a final state would've been the one after which simulation ended)\n",
        "    non_final_mask = torch.tensor(tuple(map(lambda s: s is not None,\n",
        "                                          batch.next_state)), device=device, dtype=torch.bool)\n",
        "    non_final_next_states = torch.cat([s for s in batch.next_state\n",
        "                                                if s is not None])\n",
        "    state_batch = torch.cat(batch.state)\n",
        "    action_batch = torch.cat(batch.action)\n",
        "    reward_batch = torch.cat(batch.reward)\n",
        "\n",
        "    # Compute Q(s_t, a) - the model computes Q(s_t), then we select the\n",
        "    # columns of actions taken. These are the actions which would've been taken\n",
        "    # for each batch state according to policy_net\n",
        "    state_action_values = policy_net(state_batch).gather(1, action_batch)\n",
        "\n",
        "    # Compute V(s_{t+1}) for all next states.\n",
        "    # Expected values of actions for non_final_next_states are computed based\n",
        "    # on the \"older\" target_net; selecting their best reward with max(1)[0].\n",
        "    # This is merged based on the mask, such that we'll have either the expected\n",
        "    # state value or 0 in case the state was final.\n",
        "    next_state_values = torch.zeros(BATCH_SIZE, device=device)\n",
        "    with torch.no_grad():\n",
        "        next_state_values[non_final_mask] = target_net(non_final_next_states).max(1)[0]\n",
        "    # Compute the expected Q values\n",
        "    expected_state_action_values = (next_state_values * GAMMA) + reward_batch\n",
        "\n",
        "    # Compute Huber loss\n",
        "    criterion = nn.SmoothL1Loss()\n",
        "    loss = criterion(state_action_values, expected_state_action_values.unsqueeze(1))\n",
        "\n",
        "    # Optimize the model\n",
        "    optimizer.zero_grad()\n",
        "    loss.backward()\n",
        "    # In-place gradient clipping\n",
        "    torch.nn.utils.clip_grad_value_(policy_net.parameters(), 100)\n",
        "    optimizer.step()"
      ]
    },
    {
      "cell_type": "markdown",
      "metadata": {
        "id": "NF2u96HZa3wQ"
      },
      "source": [
        "Below, you can find the main training loop. At the beginning we reset\n",
        "the environment and obtain the initial ``state`` Tensor. Then, we sample\n",
        "an action, execute it, observe the next state and the reward (always\n",
        "1), and optimize our model once. When the episode ends (our model\n",
        "fails), we restart the loop.\n",
        "\n",
        "Below, `num_episodes` is set to 600 if a GPU is available, otherwise 50\n",
        "episodes are scheduled so training does not take too long. However, 50\n",
        "episodes is insufficient for to observe good performance on CartPole.\n",
        "You should see the model constantly achieve 500 steps within 600 training\n",
        "episodes. Training RL agents can be a noisy process, so restarting training\n",
        "can produce better results if convergence is not observed.\n",
        "\n",
        "\n"
      ]
    },
    {
      "cell_type": "code",
      "execution_count": null,
      "metadata": {
        "id": "r7aRaem5a3wR",
        "colab": {
          "base_uri": "https://localhost:8080/",
          "height": 524
        },
        "outputId": "694f87fc-66a5-44f1-e156-778a9a13c17e"
      },
      "outputs": [
        {
          "output_type": "stream",
          "name": "stdout",
          "text": [
            "Complete\n"
          ]
        },
        {
          "output_type": "display_data",
          "data": {
            "text/plain": [
              "<Figure size 640x480 with 1 Axes>"
            ],
            "image/png": "[encoded data removed]"
          },
          "metadata": {}
        },
        {
          "output_type": "display_data",
          "data": {
            "text/plain": [
              "<Figure size 640x480 with 0 Axes>"
            ]
          },
          "metadata": {}
        },
        {
          "output_type": "display_data",
          "data": {
            "text/plain": [
              "<Figure size 640x480 with 0 Axes>"
            ]
          },
          "metadata": {}
        }
      ],
      "source": [
        "if torch.cuda.is_available():\n",
        "    num_episodes = 600\n",
        "else:\n",
        "    num_episodes = 50\n",
        "\n",
        "for i_episode in range(num_episodes):\n",
        "    # Initialize the environment and get it's state\n",
        "    state, info = env.reset()\n",
        "    state = torch.tensor(state, dtype=torch.float32, device=device).unsqueeze(0)\n",
        "    for t in count():\n",
        "        action = select_action(state)\n",
        "        observation, reward, terminated, truncated, _ = env.step(action.item())\n",
        "        reward = torch.tensor([reward], device=device)\n",
        "        done = terminated or truncated\n",
        "\n",
        "        if terminated:\n",
        "            next_state = None\n",
        "        else:\n",
        "            next_state = torch.tensor(observation, dtype=torch.float32, device=device).unsqueeze(0)\n",
        "\n",
        "        # Store the transition in memory\n",
        "        memory.push(state, action, next_state, reward)\n",
        "\n",
        "        # Move to the next state\n",
        "        state = next_state\n",
        "\n",
        "        # Perform one step of the optimization (on the policy network)\n",
        "        optimize_model()\n",
        "\n",
        "        # Soft update of the target network's weights\n",
        "        # θ′ ← τ θ + (1 −τ )θ′\n",
        "        target_net_state_dict = target_net.state_dict()\n",
        "        policy_net_state_dict = policy_net.state_dict()\n",
        "        for key in policy_net_state_dict:\n",
        "            target_net_state_dict[key] = policy_net_state_dict[key]*TAU + target_net_state_dict[key]*(1-TAU)\n",
        "        target_net.load_state_dict(target_net_state_dict)\n",
        "\n",
        "        if done:\n",
        "            episode_durations.append(t + 1)\n",
        "            plot_durations()\n",
        "            break\n",
        "\n",
        "print('Complete')\n",
        "plot_durations(show_result=True)\n",
        "plt.ioff()\n",
        "plt.show()"
      ]
    },
    {
      "cell_type": "markdown",
      "metadata": {
        "id": "gIXGmshIa3wT"
      },
      "source": [
        "Actions are chosen either randomly or based on a policy, getting the next\n",
        "step sample from the gym environment. We record the results in the\n",
        "replay memory and also run optimization step on every iteration.\n",
        "Optimization picks a random batch from the replay memory to do training of the\n",
        "new policy. The \"older\" target_net is also used in optimization to compute the\n",
        "expected Q values. A soft update of its weights are performed at every step.\n",
        "\n",
        "\n"
      ]
    },
    {
      "cell_type": "markdown",
      "source": [
        "# Visualizing the Final Policy"
      ],
      "metadata": {
        "id": "0KxfzFC8ilo3"
      }
    },
    {
      "cell_type": "code",
      "source": [
        "from pyvirtualdisplay import Display\n",
        "_display = Display(visible=0, size=(1400, 900))\n",
        "_display.start()\n",
        "\n",
        "from gymnasium.wrappers import RecordVideo\n",
        "\n",
        "\"\"\"\n",
        "Utility functions to enable video recording of gym environment and displaying it\n",
        "To enable video, just do \"env = wrap_env(env)\"\"\n",
        "\"\"\"\n",
        "\n",
        "def show_video():\n",
        "  mp4list = glob.glob('video/*.mp4')\n",
        "  if len(mp4list) > 0:\n",
        "    mp4 = mp4list[0]\n",
        "    video = io.open(mp4, 'r+b').read()\n",
        "    encoded = base64.b64encode(video)\n",
        "    display.display(HTML(data='''<video alt=\"test\" autoplay\n",
        "                loop controls style=\"height: 400px;\">\n",
        "                <source src=\"data:video/mp4;base64,{0}\" type=\"video/mp4\" />\n",
        "             </video>'''.format(encoded.decode('ascii'))))\n",
        "  else:\n",
        "    print(\"Could not find video\")\n",
        "\n",
        "\n",
        "def wrap_env(env):\n",
        "  env = RecordVideo(env, './video')\n",
        "  return env\n",
        "\n",
        "env = wrap_env(gym.make(\"CartPole-v1\", render_mode=\"rgb_array\"))\n",
        "#env = gym.make(\"CartPole-v1\", render_mode=\"rgb_array\")\n",
        "\n",
        "observation, info = env.reset()\n",
        "\n",
        "for _ in range(500):\n",
        "    action = select_action(torch.Tensor(observation).to(device).unsqueeze(0))\n",
        "    observation, reward, done, info, _ = env.step(action.item())\n",
        "\n",
        "    if done:\n",
        "        observation, info = env.reset()\n",
        "\n",
        "env.close()\n",
        "show_video()"
      ],
      "metadata": {
        "colab": {
          "base_uri": "https://localhost:8080/",
          "height": 563
        },
        "id": "zGNc-Oo5b2x-",
        "outputId": "d2e78d62-7c4b-46bc-aa3d-f40e607d433e"
      },
      "execution_count": null,
      "outputs": [
        {
          "output_type": "stream",
          "name": "stderr",
          "text": [
            "/usr/local/lib/python3.10/dist-packages/gymnasium/wrappers/record_video.py:94: UserWarning: \u001b[33mWARN: Overwriting existing videos at /content/video folder (try specifying a different `video_folder` for the `RecordVideo` wrapper if this is not desired)\u001b[0m\n",
            "  logger.warn(\n"
          ]
        },
        {
          "output_type": "stream",
          "name": "stdout",
          "text": [
            "Moviepy - Building video /content/video/rl-video-episode-0.mp4.\n",
            "Moviepy - Writing video /content/video/rl-video-episode-0.mp4\n",
            "\n"
          ]
        },
        {
          "output_type": "stream",
          "name": "stderr",
          "text": []
        },
        {
          "output_type": "stream",
          "name": "stdout",
          "text": [
            "Moviepy - Done !\n",
            "Moviepy - video ready /content/video/rl-video-episode-0.mp4\n"
          ]
        },
        {
          "output_type": "display_data",
          "data": {
            "text/plain": [
              "<IPython.core.display.HTML object>"
            ],
            "text/html": [
              "<video alt=\"test\" autoplay \n",
              "                loop controls style=\"height: 400px;\">\n",
              "                <source src=\"data:video/mp4;base64,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\" type=\"video/mp4\" />\n",
              "             </video>"
            ]
          },
          "metadata": {}
        }
      ]
    },
    {
      "cell_type": "code",
      "source": [],
      "metadata": {
        "id": "96q2LPqfgvA0"
      },
      "execution_count": null,
      "outputs": []
    }
  ],
  "metadata": {
    "kernelspec": {
      "display_name": "Python 3",
      "name": "python3"
    },
    "language_info": {
      "codemirror_mode": {
        "name": "ipython",
        "version": 3
      },
      "file_extension": ".py",
      "mimetype": "text/x-python",
      "name": "python",
      "nbconvert_exporter": "python",
      "pygments_lexer": "ipython3",
      "version": "3.10.13"
    },
    "colab": {
      "provenance": [],
      "gpuType": "T4",
      "include_colab_link": true
    },
    "accelerator": "GPU"
  },
  "nbformat": 4,
  "nbformat_minor": 0
}